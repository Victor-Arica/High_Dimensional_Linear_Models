{
 "cells": [
  {
   "cell_type": "code",
   "execution_count": 1,
   "id": "988d1cae",
   "metadata": {},
   "outputs": [],
   "source": [
    "import numpy as np\n",
    "import pandas as pd\n",
    "import seaborn as sns\n",
    "from statsmodels.formula.api import ols\n",
    "from sklearn.model_selection import train_test_split\n",
    "from sklearn.linear_model import LinearRegression\n",
    "import random\n"
   ]
  },
  {
   "cell_type": "code",
   "execution_count": 2,
   "id": "8597d3a5",
   "metadata": {},
   "outputs": [],
   "source": [
    "import matplotlib.pyplot as plt"
   ]
  },
  {
   "cell_type": "code",
   "execution_count": 31,
   "id": "cd44e446",
   "metadata": {},
   "outputs": [],
   "source": [
    "# Cargar datos (referencia relativa al script)\n",
    "df = pd.read_csv(\"../input/apartments.csv\")\n",
    "\n",
    "# 3.a) LIMPIEZA DE DATOS\n",
    "# Crear columna de área al cuadrado\n",
    "df[\"area2\"] = df[\"area\"] ** 2\n",
    "\n",
    "# Convertir columnas categóricas \"yes\"/\"no\" a binario (0/1)\n",
    "for col in [\"hasparkingspace\", \"hasbalcony\", \"hassecurity\", \"hasstorageroom\", \"haselevator\"]:\n",
    "    df[col] = df[col].apply(lambda x: 1 if x == \"yes\" else 0)\n",
    "\n",
    "# Crear variables indicadoras para el dígito final del área\n",
    "for i in range(10):\n",
    "    df[f\"end_{i}\"] = (df[\"area\"] % 10 == i).astype(int)\n"
   ]
  },
  {
   "cell_type": "code",
   "execution_count": 32,
   "id": "a1229a31",
   "metadata": {},
   "outputs": [
    {
     "name": "stdout",
     "output_type": "stream",
     "text": [
      "El hecho de que el área de un departamento termine en 0 aumenta su precio en aproximadamente 26,904.7 comparado con terminar en 9 (la categoría base). Este coeficiente estimado parece significativo por el valor p muy bajo.\n"
     ]
    }
   ],
   "source": [
    "# 3b Estimación del modelo lineal\n",
    "# Convertir columnas especificadas a categóricas\n",
    "for col in [\"month\", \"type\", \"rooms\", \"ownership\", \"buildingmaterial\"]:\n",
    "    df[col] = df[col].astype(\"category\")\n",
    "\n",
    "# Definir regresores (columnas 3 a 31 en el DataFrame original)\n",
    "regressors = df.columns[2:31]  # Ajustar el índice si es necesario según las posiciones reales de las columnas\n",
    "formula = \"price ~ \" + \" + \".join(regressors)\n",
    "results = ols(formula, data=df).fit()\n",
    "\n",
    "# Guardar coeficientes de la regresión\n",
    "results_df = results.summary2().tables[1]\n",
    "results_df.to_csv(\"../output/Linear model estimation.csv\")\n",
    "\n",
    "print(\"El hecho de que el área de un departamento termine en 0 aumenta su precio en aproximadamente 26,904.7 comparado con terminar en 9 (la categoría base). Este coeficiente estimado parece significativo por el valor p muy bajo.\")\n",
    "\n",
    "# Partialling-out\n",
    "# Lista de regresores sin end_0\n",
    "Z = regressors.tolist()\n",
    "Z.remove(\"end_0\")\n",
    "\n",
    "end_0_coef = results.params[\"end_0\"]\n",
    "\n",
    "# Modelo para price ~ Z\n",
    "formula_price_Z = \"price ~ \" + \" + \".join(Z)\n",
    "price_Z_model = ols(formula_price_Z, data=df).fit()\n",
    "price_Z_residual = price_Z_model.resid\n",
    "\n",
    "# Modelo para end_0 ~ Z\n",
    "formula_end_0_Z = \"end_0 ~ \" + \" + \".join(Z)\n",
    "end_0_Z_model = ols(formula_end_0_Z, data=df).fit()\n",
    "end_0_Z_residual = end_0_Z_model.resid\n",
    "\n",
    "# Regresión de los residuales\n",
    "results_partialling_out = ols(\"y ~ x\", data=pd.DataFrame({\"x\": end_0_Z_residual, \"y\": price_Z_residual})).fit()\n",
    "\n",
    "# Guardar resultados de partialling-out\n",
    "results_partialling_out_df = results_partialling_out.summary2().tables[1]\n",
    "results_partialling_out_df.to_csv(\"../output/Partialling-out estimation.csv\")\n",
    "\n",
    "# El estimador del coeficiente es el mismo que al correr la regresión con todos los regresores, es decir, 26,904.7.\n"
   ]
  },
  {
   "cell_type": "code",
   "execution_count": 33,
   "id": "1a7c1f76",
   "metadata": {},
   "outputs": [
    {
     "name": "stdout",
     "output_type": "stream",
     "text": [
      "\n",
      "COMPARACIÓN DE COEFICIENTES\n",
      "Coeficiente de end_0 en la regresión completa: 25147.12\n",
      "Coeficiente de partialling-out: 25147.12\n",
      "¿Son iguales? Sí\n"
     ]
    }
   ],
   "source": [
    "# 3c Prima de precio para área que termina en dígito 0\n",
    "# a) Regresión de end_0 sobre las demás covariables\n",
    "formula_end_0 = \"end_0 ~ \" + \" + \".join(Z)\n",
    "lm_end_0 = ols(formula_end_0, data=df).fit()\n",
    "residuos_end0 = lm_end_0.resid\n",
    "\n",
    "# b) Regresión de price sobre las demás covariables\n",
    "formula_precio = \"price ~ \" + \" + \".join(Z)\n",
    "lm_precio = ols(formula_precio, data=df).fit()\n",
    "residuos_precio = lm_precio.resid\n",
    "\n",
    "# c) Regresión de los residuos\n",
    "lm_residuos = ols(\"y ~ x\", data=pd.DataFrame({\"x\": residuos_end0, \"y\": residuos_precio})).fit()\n",
    "\n",
    "# d) Comparación de coeficientes\n",
    "coef_end_0 = results.params[\"end_0\"]\n",
    "coef_partial = lm_residuos.params[\"x\"]\n",
    "print(\"\\nCOMPARACIÓN DE COEFICIENTES\")\n",
    "print(f\"Coeficiente de end_0 en la regresión completa: {coef_end_0:.2f}\")\n",
    "print(f\"Coeficiente de partialling-out: {coef_partial:.2f}\")\n",
    "print(f\"¿Son iguales? {'Sí' if abs(coef_end_0 - coef_partial) < 1e-6 else 'No'}\")"
   ]
  }
 ],
 "metadata": {
  "kernelspec": {
   "display_name": "Python 3",
   "language": "python",
   "name": "python3"
  },
  "language_info": {
   "codemirror_mode": {
    "name": "ipython",
    "version": 3
   },
   "file_extension": ".py",
   "mimetype": "text/x-python",
   "name": "python",
   "nbconvert_exporter": "python",
   "pygments_lexer": "ipython3",
   "version": "3.11.4"
  }
 },
 "nbformat": 4,
 "nbformat_minor": 5
}
